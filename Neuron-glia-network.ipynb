{
 "cells": [
  {
   "cell_type": "code",
   "execution_count": 1,
   "metadata": {},
   "outputs": [],
   "source": [
    "import matplotlib.pyplot as plt"
   ]
  },
  {
   "cell_type": "code",
   "execution_count": 2,
   "metadata": {},
   "outputs": [],
   "source": [
    "def simulate(v):\n",
    "    c=1\n",
    "    p=c*v[0]\n",
    "    y=[0,0,p]\n",
    "\n",
    "    for n in range(len(v)-1):\n",
    "        p=p*(1/(2.71828**2))+(c*v[n+1])\n",
    "        y.append(p)\n",
    "\n",
    "    plt.plot(y)\n",
    "    plt.show()\n",
    "#     print(y)"
   ]
  },
  {
   "cell_type": "code",
   "execution_count": 3,
   "metadata": {},
   "outputs": [],
   "source": [
    "v1 = [0,1,0,1,0,1,0,1,0,1,0,1,0,1,0,1,0,1,0,1,0,1,0,1,0,1,0,1,0,1,0,1,0,1,0,1,0,1,0,1,0,1,0,1,0,1,0,1,0]\n",
    "v2 = [0,1,1,0,1,1,0,1,1,0,1,1,0,1,1,0,1,1,0,1,1,0,1,1,0,1,1,0,1,1,0,1,1,0,1,1,0,1,1,0,1,1,0,1,1,0,1,1,0]\n",
    "v3 = [0,1,1,1,0,1,1,1,0,1,1,1,0,1,1,1,0,1,1,1,0,1,1,1,0,1,1,1,0,1,1,1,0,1,1,1,0,1,1,1,0,1,1,1,0,1,1,1,0]\n",
    "v4 = [0,1,1,1,1,0,1,1,1,1,0,1,1,1,1,0,1,1,1,1,0,1,1,1,1,0,1,1,1,1,0,1,1,1,1,0,1,1,1,1,0,1,1,1,1,0,1,1,1,1,0]\n",
    "v5 = [0,1,0,1,1,0,1,1,1,0,1,0,1,1,0,1,1,1,0,1,0,1,1,0,1,1,1,0,1,0,1,1,0,1,1,1,0,1,0,1,1,0,1,1,1,0,1,0,1,1,0,1,1,1,0]\n",
    "v6 = [1,0,0,1,1,1,0,0,0,0,0,0,1,1,1,1,1,1,1,1,1,1,1,1,1,1,1,1,1,1,1,1,1,1,1,1,1,1,1,1,1,1,1,1,1,1,1,1,1,1,1]"
   ]
  },
  {
   "cell_type": "code",
   "execution_count": 4,
   "metadata": {},
   "outputs": [],
   "source": [
    "# simulate(v1)"
   ]
  },
  {
   "cell_type": "code",
   "execution_count": 5,
   "metadata": {},
   "outputs": [],
   "source": [
    "# simulate(v2)"
   ]
  },
  {
   "cell_type": "code",
   "execution_count": 6,
   "metadata": {},
   "outputs": [],
   "source": [
    "# simulate(v3)"
   ]
  },
  {
   "cell_type": "code",
   "execution_count": 7,
   "metadata": {},
   "outputs": [],
   "source": [
    "# simulate(v4)"
   ]
  },
  {
   "cell_type": "code",
   "execution_count": 8,
   "metadata": {},
   "outputs": [],
   "source": [
    "# simulate(v5)"
   ]
  },
  {
   "cell_type": "code",
   "execution_count": 9,
   "metadata": {},
   "outputs": [
    {
     "data": {
      "image/png": "[encoded data removed]",
      "text/plain": [
       "<matplotlib.figure.Figure at 0x10f591b38>"
      ]
     },
     "metadata": {},
     "output_type": "display_data"
    }
   ],
   "source": [
    "simulate(v6)"
   ]
  },
  {
   "cell_type": "code",
   "execution_count": null,
   "metadata": {},
   "outputs": [],
   "source": [
    "def cost_function(O, Y):\n",
    "    # determines the mean square difference between the expected Y and our actual Y\n",
    "    cost = np.square(Y - O).mean()\n",
    "    return cost\n",
    "\n",
    "def sigmoid(s):\n",
    "    # activation function\n",
    "    return 1/(1+np.exp(-s))"
   ]
  },
  {
   "cell_type": "code",
   "execution_count": 10,
   "metadata": {},
   "outputs": [],
   "source": [
    "class NGN:\n",
    "    \n",
    "    def __init__(self, X, weights, hidden_size, subset_size, output_size):\n",
    "        input_size = len(X[0])\n",
    "        no_of_subset = int(hidden_size/subset_size)\n",
    "\n",
    "        chromosome_w1 = input_size*hidden_size\n",
    "        chromosome_w2 = hidden_size*output_size\n",
    "\n",
    "        # weights\n",
    "        W1 = weights[:chromosome_w1].reshape(input_size, hidden_size)\n",
    "        W2 = weights[chromosome_w1+chromosome_wh:].reshape(hidden_size, output_size)\n",
    "        self.c1=1\n",
    "        self.c2=1\n",
    "        self.substrate = np.zeroes(hidden_size)\n",
    "        self.adenosine = np.zeroes(hidden_size)\n",
    "        self.activity = np.zeroes(hidden_size)\n",
    "        \n",
    "    def simulate(previous_p, activity):\n",
    "        p=previous_p*(1/(2.71828**2))+(self.c2*self.substrate)\n",
    "        self.substrate = self.c1*activity\n",
    "        \n",
    "        return p\n",
    "\n",
    "    def delayed_inhibition(subset_size, weights):\n",
    "        \n",
    "        # dot product of X (input) and first set of weights W1\n",
    "        hidden_summation = np.matmul(X, W1)\n",
    "        self.adenosine = simulate(self.adenosine, self.activity)\n",
    "        \n",
    "        for x in range(len(X)):\n",
    "            q=[]\n",
    "            for r in range(no_of_subset):\n",
    "                # summate subset rows\n",
    "                subset_inhibition_val = 1 - np.sum(self.adenosine[subset_size*r:(subset_size*r)+subset_size], axis=0)\n",
    "                q.append(hidden_activation[subset_size*r:(subset_size*r)+subset_size]\n",
    "            q.multiply(subset_inhibition_val)\n",
    "            q.flatten()\n",
    "\n",
    "            hidden_activation = sigmoid(np.array(hidden_summation)) # activation function\n",
    "                         \n",
    "            # convert activation to binary value\n",
    "            self.activity = (hidden_activation>0.5).astype(int)\n",
    "\n",
    "            # dot product of hidden layer (z2) and second set of 36x1 weights\n",
    "            z3 = np.dot(hidden_activation, W2)\n",
    "            # final activation function\t\n",
    "            o = sigmoid(z3)\n",
    "\n",
    "            Y.append(o[0])\n",
    "\n",
    "        return Y\n",
    "                         \n",
    "    def excitation_inhibition(subset_size, weights):\n",
    "\n",
    "        # dot product of X (input) and first set of weights W1\n",
    "        hidden_summation = np.matmul(X, W1) + self.substrate\n",
    "        self.adenosine = simulate(self.adenosine, self.activity)\n",
    "        \n",
    "        for x in range(len(X)):\n",
    "            q=[]\n",
    "            for r in range(no_of_subset):\n",
    "                # summate subset rows\n",
    "                subset_inhibition_val = 1 - np.sum(self.adenosine[subset_size*r:(subset_size*r)+subset_size], axis=0)\n",
    "                q.append(hidden_activation[subset_size*r:(subset_size*r)+subset_size]\n",
    "            q.multiply(subset_inhibition_val)\n",
    "            q.flatten()\n",
    "\n",
    "            hidden_activation = sigmoid(np.array(hidden_summation)) # activation function\n",
    "                         \n",
    "            # convert activation to binary value\n",
    "            self.activity = (hidden_activation>0.5).astype(int)\n",
    "\n",
    "            # dot product of hidden layer (z2) and second set of 36x1 weights\n",
    "            z3 = np.dot(hidden_activation, W2)\n",
    "            # final activation function\t\n",
    "            o = sigmoid(z3)\n",
    "\n",
    "            Y.append(o[0])\n",
    "\n",
    "        return Y"
   ]
  },
  {
   "cell_type": "code",
   "execution_count": null,
   "metadata": {},
   "outputs": [],
   "source": [
    "def Genetic_Evolve(subset_size, ngn, algo):\n",
    "\n",
    "    init_population = 100\n",
    "    mutation_rate = 0.05\n",
    "    num_generations = 22\n",
    "    winners_per_gen = 20\n",
    "    error_reducing_trend = []\n",
    "\n",
    "    if algo == 'NGN':\n",
    "        chromosome = (len(X[0])*hidden_size)+(hidden_size*subset_size)+(hidden_size*output_size)\n",
    "    else:\n",
    "        chromosome = (len(X[0])*hidden_size)+(hidden_size*output_size)\n",
    "\n",
    "    # initialize current population to random values within range\n",
    "    current_population = np.random.uniform(0, 1, init_population*chromosome).reshape(init_population, chromosome)\n",
    "\n",
    "    # initialize next population array\n",
    "    next_population = np.zeros((current_population.shape[0], current_population.shape[1]))\n",
    "    # 1st column is index of the individual in population, 2nd column is cost\n",
    "    fit_vector = np.zeros((init_population, 2))\n",
    "\n",
    "    # iterate through every generation\n",
    "    for current_generation in range(num_generations):\n",
    "        for x in range(init_population):\n",
    "            if algo == 'delayed_inhibition':\n",
    "                O = ngn.delayed_inhibition(subset_size, current_population[x])\n",
    "            if algo == 'excitation_inhibition':\n",
    "                O = ngn.excitation_inhibition(subset_size, current_population[x])\n",
    "            else:\n",
    "                O = NN(X, current_population[x], hidden_size, output_size)\n",
    "            cost = np.sum(cost_function(O, Y))\n",
    "            # create vec of all errors from cost function\n",
    "            fit_vector[x] = np.array([x, cost])\n",
    "        print(\"(Generation: #%s) Total error: %s\\n\" % (current_generation, np.sum(fit_vector[:,1])))\n",
    "        error_reducing_trend.append([current_generation, np.sum(fit_vector[:,1])])\n",
    "\n",
    "        winners = np.zeros((winners_per_gen, chromosome))\n",
    "\n",
    "        for n in range(winners_per_gen):\n",
    "            # select 20/2=10 index values randomly within range of fit_vector's length\n",
    "            selected = np.random.choice(range(len(fit_vector)), int(winners_per_gen/2), replace=False)\n",
    "            # find the index of minimum cost value from randomly selected individuals in fit_vector\n",
    "            winner = np.argmin(fit_vector[selected, 1])\n",
    "            winners[n] = current_population[int(fit_vector[selected[winner]][0])]\n",
    "\n",
    "        # populate new generation with winners\n",
    "        next_population[:len(winners)] = winners\n",
    "\n",
    "        # populate rest of the generation with offspring of mating pairs\n",
    "        next_population[len(winners):] = np.array([np.array(np.random.permutation(np.repeat(winners[:, i], ((init_population - len(winners))/len(winners)), axis=0))) for i in range(winners.shape[1])]).T\n",
    "\n",
    "        # randomly mutate part of the population\n",
    "        next_population = np.array(np.multiply(next_population, np.matrix([np.float(np.random.normal(0,2,1)) if random.random() < mutation_rate else 1 for x in range(next_population.size)]).reshape(next_population.shape)))\n",
    "\n",
    "        current_population = next_population\n",
    "\n",
    "    # return best solution weight\n",
    "    return current_population[int(np.argmin(fit_vector[:, 1]))], error_reducing_trend"
   ]
  },
  {
   "cell_type": "code",
   "execution_count": null,
   "metadata": {},
   "outputs": [],
   "source": [
    "Y, X = read_input(filename='breast-cancer-wisconsin.csv', Y_pos=10, X_pos=(1, 9))\n",
    "\n",
    "\n",
    "output_size=1\n",
    "neuron_glia_power=8\n",
    "subset_sizes = [2, 3, 4, 5, 6, 8, 10, 12, 15, 16, 20, 24, 30, 40, 48, 60, 80, 120]\n",
    "subset_error_values = []\n",
    "error_trend_values = []\n",
    "\n",
    "hidden_size = 240\n",
    "\n",
    "ngn = NGN(Y, X, hidden_size, output_size)\n",
    "\n",
    "for i in range(5):\n",
    "    for subset_size in subset_sizes:\n",
    "        solution_weight, error_reducing_trend = Genetic_Evolve(subset_size, ngn, 'inhibition')\n",
    "        soultion = NGN(X, solution_weight, hidden_size, subset_size, output_size, neuron_glia_power)\n",
    "        error = cost_function(soultion, Y)\n",
    "        subset_error_values.append([subset_size, error])\n",
    "        error_trend_values.append([subset_size, error_reducing_trend])\n"
   ]
  }
 ],
 "metadata": {
  "kernelspec": {
   "display_name": "Python 3",
   "language": "python",
   "name": "python3"
  },
  "language_info": {
   "codemirror_mode": {
    "name": "ipython",
    "version": 3
   },
   "file_extension": ".py",
   "mimetype": "text/x-python",
   "name": "python",
   "nbconvert_exporter": "python",
   "pygments_lexer": "ipython3",
   "version": "3.4.3"
  }
 },
 "nbformat": 4,
 "nbformat_minor": 2
}
